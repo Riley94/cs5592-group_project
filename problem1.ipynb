{
 "cells": [
  {
   "cell_type": "code",
   "execution_count": null,
   "id": "33528b19",
   "metadata": {},
   "outputs": [],
   "source": [
    "import networkx as nx\n",
    "import matplotlib.pyplot as plt\n",
    "import math\n",
    "from tqdm import tqdm"
   ]
  },
  {
   "cell_type": "code",
   "execution_count": 3,
   "id": "c96392ed",
   "metadata": {},
   "outputs": [],
   "source": [
    "def build_mongolian_tent_graph(n):\n",
    "    if n % 2 == 0:\n",
    "        raise ValueError(\"n must be odd for a valid Mongolian tent graph.\")\n",
    "\n",
    "    graph = {}\n",
    "    \n",
    "    # Grid vertices: rows 0, 1, 2 and columns 0 to n-1\n",
    "    def node_id(row, col):\n",
    "        return row * n + col\n",
    "\n",
    "    # Step 1: Build the grid P_3 x P_n\n",
    "    for row in range(3):\n",
    "        for col in range(n):\n",
    "            curr = node_id(row, col)\n",
    "            graph[curr] = []\n",
    "\n",
    "            # Connect to right neighbor\n",
    "            if col + 1 < n:\n",
    "                graph[curr].append(node_id(row, col + 1))\n",
    "            \n",
    "            # Connect to bottom neighbor\n",
    "            if row + 1 < 3:\n",
    "                graph[curr].append(node_id(row + 1, col))\n",
    "\n",
    "            # Connect left and top neighbors (implicitly)\n",
    "            if col - 1 >= 0:\n",
    "                graph[curr].append(node_id(row, col - 1))\n",
    "            if row - 1 >= 0:\n",
    "                graph[curr].append(node_id(row - 1, col))\n",
    "\n",
    "    # Step 2: Add the tent peak node and connect to every top-row vertex\n",
    "    tent_peak = 3 * n\n",
    "    graph[tent_peak] = []\n",
    "    for col in range(0, n):\n",
    "        top_row_node = node_id(0, col)\n",
    "        graph[tent_peak].append(top_row_node)\n",
    "        graph[top_row_node].append(tent_peak)\n",
    "\n",
    "    return graph"
   ]
  },
  {
   "cell_type": "code",
   "execution_count": 14,
   "id": "b710cd63",
   "metadata": {},
   "outputs": [
    {
     "data": {
      "text/plain": [
       "{0: [1, 5, 15],\n",
       " 1: [2, 6, 0, 15],\n",
       " 2: [3, 7, 1, 15],\n",
       " 3: [4, 8, 2, 15],\n",
       " 4: [9, 3, 15],\n",
       " 5: [6, 10, 0],\n",
       " 6: [7, 11, 5, 1],\n",
       " 7: [8, 12, 6, 2],\n",
       " 8: [9, 13, 7, 3],\n",
       " 9: [14, 8, 4],\n",
       " 10: [11, 5],\n",
       " 11: [12, 10, 6],\n",
       " 12: [13, 11, 7],\n",
       " 13: [14, 12, 8],\n",
       " 14: [13, 9],\n",
       " 15: [0, 1, 2, 3, 4]}"
      ]
     },
     "execution_count": 14,
     "metadata": {},
     "output_type": "execute_result"
    }
   ],
   "source": [
    "n = 5\n",
    "graph = build_mongolian_tent_graph(n)\n",
    "graph"
   ]
  },
  {
   "cell_type": "code",
   "execution_count": 11,
   "id": "d43bbbde",
   "metadata": {},
   "outputs": [],
   "source": [
    "def compute_edges(graph):\n",
    "    \"\"\"Convert adjacency list to undirected edge list without duplicates\"\"\"\n",
    "    edges = set()\n",
    "    for u in graph:\n",
    "        for v in graph[u]:\n",
    "            if u < v:\n",
    "                edges.add((u, v))\n",
    "    return list(edges)\n",
    "\n",
    "def max_degree(graph):\n",
    "    return max(len(neighbors) for neighbors in graph.values())\n",
    "\n",
    "def label_graph(graph, k):\n",
    "    vertices = list(graph.keys())\n",
    "    vertices.sort(key=lambda v: -len(graph[v]))\n",
    "    n = len(vertices)\n",
    "    edges = compute_edges(graph)\n",
    "    max_weight = 2 * k\n",
    "\n",
    "    def is_valid_labeling(idx, labels, used_weights):\n",
    "        if idx == n:\n",
    "            return True\n",
    "\n",
    "        v = vertices[idx]\n",
    "        for label in range(1, k + 1):\n",
    "            labels[v] = label\n",
    "            valid = True\n",
    "            new_weights = []\n",
    "\n",
    "            for u in graph[v]:\n",
    "                if u in labels:\n",
    "                    w = labels[v] + labels[u]\n",
    "                    if w > max_weight or used_weights[w]:\n",
    "                        valid = False\n",
    "                        break\n",
    "                    new_weights.append(w)\n",
    "\n",
    "            if valid:\n",
    "                for w in new_weights:\n",
    "                    used_weights[w] = True\n",
    "                if is_valid_labeling(idx + 1, labels, used_weights):\n",
    "                    return True\n",
    "                for w in new_weights:\n",
    "                    used_weights[w] = False\n",
    "\n",
    "            del labels[v]\n",
    "\n",
    "        return False\n",
    "\n",
    "    used_weights = [False] * (max_weight + 1)\n",
    "    labels = {}\n",
    "    success = is_valid_labeling(0, labels, used_weights)\n",
    "    return success, labels if success else None\n",
    "\n",
    "\n",
    "def find_edge_irregularity_strength(graph):\n",
    "    \"\"\"Find minimal k where valid vertex k-labeling gives unique edge weights\"\"\"\n",
    "    edges = compute_edges(graph)\n",
    "    edge_count = len(edges)\n",
    "    delta = max_degree(graph)\n",
    "\n",
    "    lower = max(math.ceil((edge_count + 1) / 2), delta)\n",
    "    upper = 2 * edge_count\n",
    "\n",
    "    pbar = tqdm(total=upper - lower + 1, desc=\"Searching k\")\n",
    "\n",
    "    while lower < upper:\n",
    "        mid = (lower + upper) // 2\n",
    "        pbar.set_postfix({\"k\": mid})\n",
    "        success, labels = label_graph(graph, mid)\n",
    "        if success:\n",
    "            upper = mid\n",
    "        else:\n",
    "            lower = mid + 1\n",
    "        pbar.update(1)\n",
    "\n",
    "    pbar.close()\n",
    "    return lower, labels\n",
    "\n",
    "def draw_labeled_tent_graph(graph, n, labels):\n",
    "    G = nx.Graph()\n",
    "\n",
    "    # Add labeled nodes\n",
    "    for node in graph:\n",
    "        G.add_node(node)\n",
    "\n",
    "    # Add edges\n",
    "    for u in graph:\n",
    "        for v in graph[u]:\n",
    "            if u < v:\n",
    "                G.add_edge(u, v)\n",
    "\n",
    "    # Custom layout for Mongolian Tent structure\n",
    "    pos = {}\n",
    "    for row in range(3):\n",
    "        for col in range(n):\n",
    "            node = row * n + col\n",
    "            pos[node] = (col, -row)\n",
    "\n",
    "    tent_peak = 3 * n\n",
    "    pos[tent_peak] = ((n - 1) / 2, 1)\n",
    "\n",
    "    # Compute edge weights\n",
    "    edge_labels = {\n",
    "        (u, v): labels[u] + labels[v]\n",
    "        for u, v in G.edges()\n",
    "    }\n",
    "\n",
    "    # Draw base graph\n",
    "    plt.figure(figsize=(1.5 * n, 4))\n",
    "    nx.draw(G, pos, with_labels=True, labels=labels,\n",
    "            node_color=\"lightcoral\", node_size=900, font_size=10, font_weight=\"bold\")\n",
    "\n",
    "    # Draw edge weights\n",
    "    nx.draw_networkx_edge_labels(G, pos, edge_labels=edge_labels, font_color='blue', font_size=10)\n",
    "\n",
    "    # Title and formatting\n",
    "    plt.title(f\"Mongolian Tent Graph M₃,{n} with Vertex k-Labeling\", fontsize=14)\n",
    "    plt.axis(\"off\")\n",
    "    plt.tight_layout()\n",
    "    plt.show()"
   ]
  },
  {
   "cell_type": "code",
   "execution_count": 12,
   "id": "a81f1030",
   "metadata": {},
   "outputs": [
    {
     "name": "stderr",
     "output_type": "stream",
     "text": [
      "Searching k:  15%|█▍        | 6/41 [00:00<00:00, 1160.36it/s, k=14]"
     ]
    },
    {
     "name": "stdout",
     "output_type": "stream",
     "text": [
      "Edge irregularity strength es(G): 14\n"
     ]
    },
    {
     "name": "stderr",
     "output_type": "stream",
     "text": [
      "\n",
      "/tmp/ipykernel_88293/703437048.py:120: UserWarning: This figure includes Axes that are not compatible with tight_layout, so results might be incorrect.\n",
      "  plt.tight_layout()\n"
     ]
    },
    {
     "data": {
      "image/png": "[encoded data removed]",
      "text/plain": [
       "<Figure size 750x400 with 1 Axes>"
      ]
     },
     "metadata": {},
     "output_type": "display_data"
    }
   ],
   "source": [
    "es, labels = find_edge_irregularity_strength(graph)\n",
    "print(f\"Edge irregularity strength es(G): {es}\")\n",
    "draw_labeled_tent_graph(graph, 5, labels)"
   ]
  }
 ],
 "metadata": {
  "kernelspec": {
   "display_name": "base",
   "language": "python",
   "name": "python3"
  },
  "language_info": {
   "codemirror_mode": {
    "name": "ipython",
    "version": 3
   },
   "file_extension": ".py",
   "mimetype": "text/x-python",
   "name": "python",
   "nbconvert_exporter": "python",
   "pygments_lexer": "ipython3",
   "version": "3.10.12"
  }
 },
 "nbformat": 4,
 "nbformat_minor": 5
}
